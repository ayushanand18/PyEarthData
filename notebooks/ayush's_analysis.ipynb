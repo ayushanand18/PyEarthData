{
  "nbformat": 4,
  "nbformat_minor": 0,
  "metadata": {
    "colab": {
      "provenance": [],
      "collapsed_sections": [],
      "authorship_tag": "ABX9TyP8IYIx4M/dHhrdnNKwjx6v",
      "include_colab_link": true
    },
    "kernelspec": {
      "name": "python3",
      "display_name": "Python 3"
    },
    "language_info": {
      "name": "python"
    }
  },
  "cells": [
    {
      "cell_type": "markdown",
      "metadata": {
        "id": "view-in-github",
        "colab_type": "text"
      },
      "source": [
        "<a href=\"https://colab.research.google.com/github/ayushanand18/ocean-research-py/blob/main/notebooks/ayush's_analysis.ipynb\" target=\"_parent\"><img src=\"https://colab.research.google.com/assets/colab-badge.svg\" alt=\"Open In Colab\"/></a>"
      ]
    },
    {
      "cell_type": "markdown",
      "source": [
        "# Data Exploration\n",
        "Let us explorate our data and bring out areas where we need to focus on in future."
      ],
      "metadata": {
        "id": "j1kRtYpPCjP-"
      }
    },
    {
      "cell_type": "markdown",
      "source": [
        "## installing pyobis"
      ],
      "metadata": {
        "id": "6VwCNw9lDCfT"
      }
    },
    {
      "cell_type": "code",
      "execution_count": 1,
      "metadata": {
        "id": "a9Nao-_6CP0J",
        "outputId": "bbeac221-6c99-455f-bc9b-0e4eb28a745b",
        "colab": {
          "base_uri": "https://localhost:8080/"
        }
      },
      "outputs": [
        {
          "output_type": "stream",
          "name": "stdout",
          "text": [
            "Looking in indexes: https://pypi.org/simple, https://us-python.pkg.dev/colab-wheels/public/simple/\n",
            "Collecting pyobis\n",
            "  Downloading pyobis-1.2.6-py3-none-any.whl (18 kB)\n",
            "Requirement already satisfied: requests>2.7 in /usr/local/lib/python3.7/dist-packages (from pyobis) (2.23.0)\n",
            "Requirement already satisfied: pandas in /usr/local/lib/python3.7/dist-packages (from pyobis) (1.3.5)\n",
            "Requirement already satisfied: certifi>=2017.4.17 in /usr/local/lib/python3.7/dist-packages (from requests>2.7->pyobis) (2022.6.15)\n",
            "Requirement already satisfied: urllib3!=1.25.0,!=1.25.1,<1.26,>=1.21.1 in /usr/local/lib/python3.7/dist-packages (from requests>2.7->pyobis) (1.24.3)\n",
            "Requirement already satisfied: idna<3,>=2.5 in /usr/local/lib/python3.7/dist-packages (from requests>2.7->pyobis) (2.10)\n",
            "Requirement already satisfied: chardet<4,>=3.0.2 in /usr/local/lib/python3.7/dist-packages (from requests>2.7->pyobis) (3.0.4)\n",
            "Requirement already satisfied: numpy>=1.17.3 in /usr/local/lib/python3.7/dist-packages (from pandas->pyobis) (1.21.6)\n",
            "Requirement already satisfied: python-dateutil>=2.7.3 in /usr/local/lib/python3.7/dist-packages (from pandas->pyobis) (2.8.2)\n",
            "Requirement already satisfied: pytz>=2017.3 in /usr/local/lib/python3.7/dist-packages (from pandas->pyobis) (2022.2.1)\n",
            "Requirement already satisfied: six>=1.5 in /usr/local/lib/python3.7/dist-packages (from python-dateutil>=2.7.3->pandas->pyobis) (1.15.0)\n",
            "Installing collected packages: pyobis\n",
            "Successfully installed pyobis-1.2.6\n"
          ]
        }
      ],
      "source": [
        "try:\n",
        "  import pyobis\n",
        "except:\n",
        "  %pip install pyobis\n",
        "  import pyobis"
      ]
    },
    {
      "cell_type": "markdown",
      "source": [
        "## importing other modules"
      ],
      "metadata": {
        "id": "NZqiU9cbDKVd"
      }
    },
    {
      "cell_type": "code",
      "source": [
        "import numpy as np\n",
        "import pandas as pd\n",
        "import matplotlib.pyplot as plt\n",
        "%matplotlib inline\n",
        "import seaborn as sns\n",
        "from pyobis.occurrences import OccQuery"
      ],
      "metadata": {
        "id": "LlQsnqqADMzw"
      },
      "execution_count": 3,
      "outputs": []
    },
    {
      "cell_type": "code",
      "source": [
        "try:\n",
        "  import cartopy\n",
        "except:\n",
        "  %pip -q install cartopy\n",
        "  import cartopy"
      ],
      "metadata": {
        "id": "p-HRonnYDyDT",
        "outputId": "645bd2a1-fe52-49a3-8ebe-ba643c804a71",
        "colab": {
          "base_uri": "https://localhost:8080/"
        }
      },
      "execution_count": 4,
      "outputs": [
        {
          "output_type": "stream",
          "name": "stdout",
          "text": [
            "\u001b[K     |████████████████████████████████| 10.8 MB 34.2 MB/s \n",
            "\u001b[?25h  Installing build dependencies ... \u001b[?25l\u001b[?25hdone\n",
            "  Getting requirements to build wheel ... \u001b[?25l\u001b[?25herror\n",
            "\u001b[33mWARNING: Discarding https://files.pythonhosted.org/packages/98/a9/0e4000eabadfcff6373c0fec790863b543b919cbfec18aed60d71ba67d5d/Cartopy-0.20.3.tar.gz#sha256=0d60fa2e2fbd77c4d1f6b1f9d3b588966147f07c1b179d2d34570ac1e1b49006 (from https://pypi.org/simple/cartopy/) (requires-python:>=3.7). Command errored out with exit status 1: /usr/bin/python3 /usr/local/lib/python3.7/dist-packages/pip/_vendor/pep517/in_process/_in_process.py get_requires_for_build_wheel /tmp/tmpkbkx4kzq Check the logs for full command output.\u001b[0m\n",
            "\u001b[K     |████████████████████████████████| 10.8 MB 50.7 MB/s \n",
            "\u001b[?25h  Installing build dependencies ... \u001b[?25l\u001b[?25hdone\n",
            "  Getting requirements to build wheel ... \u001b[?25l\u001b[?25herror\n",
            "\u001b[33mWARNING: Discarding https://files.pythonhosted.org/packages/f6/55/1e1c737dc9436b320deead73d1c455ddbb74b8b6992081863492f6f6378a/Cartopy-0.20.2.tar.gz#sha256=4d08c198ecaa50a6a6b109d0f14c070e813defc046a83ac5d7ab494f85599e35 (from https://pypi.org/simple/cartopy/) (requires-python:>=3.7). Command errored out with exit status 1: /usr/bin/python3 /usr/local/lib/python3.7/dist-packages/pip/_vendor/pep517/in_process/_in_process.py get_requires_for_build_wheel /tmp/tmp71me3j79 Check the logs for full command output.\u001b[0m\n",
            "\u001b[K     |████████████████████████████████| 10.8 MB 51.1 MB/s \n",
            "\u001b[?25h  Installing build dependencies ... \u001b[?25l\u001b[?25hdone\n",
            "  Getting requirements to build wheel ... \u001b[?25l\u001b[?25herror\n",
            "\u001b[33mWARNING: Discarding https://files.pythonhosted.org/packages/fc/59/aa52698e3838f4cd0e7eaa75bd86837e9e0b05041dbdaee3cda2fffced06/Cartopy-0.20.1.tar.gz#sha256=91f87b130e2574547a20cd634498df97d797abd12dcfd0235bc0cdbcec8b05e3 (from https://pypi.org/simple/cartopy/) (requires-python:>=3.7). Command errored out with exit status 1: /usr/bin/python3 /usr/local/lib/python3.7/dist-packages/pip/_vendor/pep517/in_process/_in_process.py get_requires_for_build_wheel /tmp/tmpnlnq6317 Check the logs for full command output.\u001b[0m\n",
            "\u001b[K     |████████████████████████████████| 10.8 MB 65.3 MB/s \n",
            "\u001b[?25h  Installing build dependencies ... \u001b[?25l\u001b[?25hdone\n",
            "  Getting requirements to build wheel ... \u001b[?25l\u001b[?25herror\n",
            "\u001b[33mWARNING: Discarding https://files.pythonhosted.org/packages/0f/c0/58453b036e79046d211f083880d58dcce787e7e07647ac25dc46c6555099/Cartopy-0.20.0.tar.gz#sha256=eae58aff26806e63cf115b2bce9477cedc4aa9f578c5e477b2c25cfa404f2b7a (from https://pypi.org/simple/cartopy/) (requires-python:>=3.7). Command errored out with exit status 1: /usr/bin/python3 /usr/local/lib/python3.7/dist-packages/pip/_vendor/pep517/in_process/_in_process.py get_requires_for_build_wheel /tmp/tmpygo9n1ha Check the logs for full command output.\u001b[0m\n",
            "\u001b[K     |████████████████████████████████| 12.1 MB 64.6 MB/s \n",
            "\u001b[?25h  Installing build dependencies ... \u001b[?25l\u001b[?25hdone\n",
            "  Getting requirements to build wheel ... \u001b[?25l\u001b[?25hdone\n",
            "    Preparing wheel metadata ... \u001b[?25l\u001b[?25hdone\n",
            "\u001b[K     |████████████████████████████████| 46 kB 5.7 MB/s \n",
            "\u001b[?25h  Building wheel for cartopy (PEP 517) ... \u001b[?25l\u001b[?25hdone\n"
          ]
        }
      ]
    },
    {
      "cell_type": "markdown",
      "source": [
        "## grabbing some data"
      ],
      "metadata": {
        "id": "2ZC26aZhDT9K"
      }
    },
    {
      "cell_type": "code",
      "source": [
        "occ = OccQuery()"
      ],
      "metadata": {
        "id": "OVpW6Ll-DWkz"
      },
      "execution_count": 5,
      "outputs": []
    },
    {
      "cell_type": "markdown",
      "source": [
        "setting up environment variables"
      ],
      "metadata": {
        "id": "s-EF9UDyD-ne"
      }
    },
    {
      "cell_type": "code",
      "source": [
        "STARTDATE = \"1999-01-01\"\n",
        "ENDDATE = \"2017-12-31\"\n",
        "GEOMETRY = \"POLYGON ((17.4024 -42.7827,\t18.1055 -56.2070, 45.2930 -56.0765, 43.7695 -43.3815, 17.4024 -42.7827))\"\n",
        "SPECIES = \"Arctocephalus gazella\""
      ],
      "metadata": {
        "id": "ZdWm8Xs6EEJU"
      },
      "execution_count": 6,
      "outputs": []
    },
    {
      "cell_type": "code",
      "source": [
        "df = occ.search(scientificname=SPECIES, startdate=STARTDATE, enddate=ENDDATE, geometry=GEOMETRY)"
      ],
      "metadata": {
        "id": "kUxdzjZbDa3L",
        "outputId": "1a0f808c-85bf-4469-f137-e892c31f1781",
        "colab": {
          "base_uri": "https://localhost:8080/"
        }
      },
      "execution_count": null,
      "outputs": [
        {
          "output_type": "stream",
          "name": "stdout",
          "text": []
        }
      ]
    }
  ]
}